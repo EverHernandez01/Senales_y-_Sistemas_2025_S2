{
  "nbformat": 4,
  "nbformat_minor": 0,
  "metadata": {
    "colab": {
      "provenance": [],
      "authorship_tag": "ABX9TyNyyXyYHPBBg46fqFEn/5tz",
      "include_colab_link": true
    },
    "kernelspec": {
      "name": "python3",
      "display_name": "Python 3"
    },
    "language_info": {
      "name": "python"
    }
  },
  "cells": [
    {
      "cell_type": "markdown",
      "metadata": {
        "id": "view-in-github",
        "colab_type": "text"
      },
      "source": [
        "<a href=\"https://colab.research.google.com/github/EverHernandez01/Senales_y-_Sistemas_2025_S2/blob/main/Soluci%C3%B3n_Taller/Taller_transformada_de_furiel.ipynb\" target=\"_parent\"><img src=\"https://colab.research.google.com/assets/colab-badge.svg\" alt=\"Open In Colab\"/></a>"
      ]
    },
    {
      "cell_type": "markdown",
      "source": [
        " Transformada de Fourier\n",
        "\n",
        "1. Consultar y realizar los ejercicios propuestos en el cuaderno Transformada de Fourier.\n",
        "\n",
        "2. Explique las semejanzas y diferencias entre la serie de Fourier (exponencial, trigonométrica y compacta), la transformada de Fourier, transformada de Fourier en tiempo discreto (DTFT) y transformada discreta de Fourier (DFT).Considere las diferentes combinaciones entre: espectro continuo y discretoy señal en tiempo continuo y discreto. Además, consulte en qué consiste el algoritmo Fast Fourier Transform (FFT) y su utilidad para el cálculo de la transformada discreta de Fourier. Explique en detalle el algoritmo FFT y su costo computacional vs el de la transformada discreta. Ver cuaderno Transformada de Fourier.\n",
        "\n",
        "3. Encuentre la función de densidad espectral (transformada de Fourier)\n",
        "% para las siguientes señales (sin aplicar propiedades):\n",
        "\n",
        "$$\n",
        "\\begin{aligned}\n",
        "\\text{a)}\\quad & e^{-a|t|}, \\qquad a\\in\\mathbb{R}^+\\\\[6pt]\n",
        "\\text{b)}\\quad & \\cos(\\omega_c t), \\qquad \\omega_c\\in\\mathbb{R}\\\\[6pt]\n",
        "\\text{c)}\\quad & \\sin(\\omega_s t), \\qquad \\omega_s\\in\\mathbb{R}\\\\[6pt]\n",
        "\\text{d)}\\quad & f(t)\\cos(\\omega_c t), \\qquad \\omega_c\\in\\mathbb{R},\\; f(t)\\in\\mathbb{R},\\mathbb{C}\\\\[6pt]\n",
        "\\text{e)}\\quad & e^{-a|t|^2}, \\qquad a\\in\\mathbb{R}^+\\\\[6pt]\n",
        "\\text{f)}\\quad & A\\,\\mathrm{rect}(t), \\qquad A\\in\\mathbb{R},\\; d\\in\\mathbb{R}\n",
        "\\end{aligned}\n",
        "$$\n",
        "\n"
      ],
      "metadata": {
        "id": "PLWQnT0BapAj"
      }
    }
  ]
}