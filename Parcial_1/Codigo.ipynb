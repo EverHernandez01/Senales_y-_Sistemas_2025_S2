{
  "nbformat": 4,
  "nbformat_minor": 0,
  "metadata": {
    "colab": {
      "provenance": [],
      "authorship_tag": "ABX9TyNsOH0gInRTRV9wLVxqI/XT",
      "include_colab_link": true
    },
    "kernelspec": {
      "name": "python3",
      "display_name": "Python 3"
    },
    "language_info": {
      "name": "python"
    }
  },
  "cells": [
    {
      "cell_type": "markdown",
      "metadata": {
        "id": "view-in-github",
        "colab_type": "text"
      },
      "source": [
        "<a href=\"https://colab.research.google.com/github/EverHernandez01/Senales_y-_Sistemas_2025_S2/blob/main/Parcial_1/Codigo.ipynb\" target=\"_parent\"><img src=\"https://colab.research.google.com/assets/colab-badge.svg\" alt=\"Open In Colab\"/></a>"
      ]
    },
    {
      "cell_type": "markdown",
      "source": [
        "<div align=\"center\">\n",
        "\n",
        "<p><b>PARCIAL #1 SEÑALES Y SISTEMAS - 2025 2S</p>\n",
        "\n",
        "<p><b>Estudiante:</b> Ever Daniel Hernández Tulcán</p>\n",
        "\n",
        "\n",
        "\n",
        "</div>"
      ],
      "metadata": {
        "id": "WuCwv_cR62lI"
      }
    },
    {
      "cell_type": "code",
      "execution_count": 1,
      "metadata": {
        "id": "lf8HIScooRYx"
      },
      "outputs": [],
      "source": [
        "import numpy as np\n",
        "import sympy as sp\n",
        "import matplotlib.pyplot as plt"
      ]
    },
    {
      "cell_type": "markdown",
      "source": [
        "### Ejercicio 1\n",
        "\n",
        "La distancia media entre dos señales periódicas:\n",
        "\n",
        "$$\n",
        "x_1(t) \\in \\mathbb{R}, \\mathbb{C} \\quad \\text{y} \\quad x_2(t) \\in \\mathbb{R}, \\mathbb{C}\n",
        "$$\n",
        "\n",
        "se puede expresar a partir de la potencia media de la diferencia entre ellas:\n",
        "\n",
        "$$\n",
        "d^2(x_1, x_2) = \\overline{P}_{x_1 - x_2} = \\lim_{T \\to \\infty} \\frac{1}{T} \\int_T |x_1(t) - x_2(t)|^2 \\, dt\n",
        "$$\n",
        "\n",
        "Sea \\(x_1(t)\\) y \\(x_2(t)\\) dos señales definidas como:\n",
        "\n",
        "$$\n",
        "x_1(t) = A e^{-j n \\omega_0 t}\n",
        "$$\n",
        "\n",
        "$$\n",
        "x_2(t) = B e^{j m \\omega_0 t}\n",
        "$$\n",
        "\n",
        "con:\n",
        "\n",
        "$$\n",
        "\\omega_0 = \\frac{2\\pi}{T}; \\quad T, A, B \\in \\mathbb{R}^+, \\quad n, m \\in \\mathbb{Z}.\n",
        "$$\n",
        "\n",
        "**Determine la distancia entre las dos señales.**  \n",
        "**Compruebe sus resultados con Python.**\n",
        "\n"
      ],
      "metadata": {
        "id": "yhufSmuL64yZ"
      }
    },
    {
      "cell_type": "code",
      "source": [
        "# definnimos las variables en t definiendo que es real\n",
        "t = sp.symbols ('t', real=True) # para todo t\n",
        "\n",
        "# Variables dadas por el enunciado\n",
        "# Variables reales Positiva\n",
        "A, B = sp.symbols('A B', real= True , Positive= True ) # A y B son las amplitudes de las señales\n",
        "n, m = sp.symbols('n m', integer = True) # Multipos enteros que multiplican a la frecuancia\n",
        "T = sp.symbols ('T', rel= True , Positive= True) # definimos el Periodo\n",
        "Wo = 2* sp.pi / T  # Frecuancia angular\n",
        "\n",
        "\n",
        "# Señales definidas\n",
        "x1 = A * sp.exp(-sp.I * n * Wo * t) # primera ecuancion de X(1)\n",
        "x2 = B * sp.exp(-sp.I * m * Wo * t) # primera ecuancion de X(2)\n",
        "\n",
        "# furmula de la definicion de la variable entre las dos señales\n",
        "d = sp.sqrt(sp.limit( (1 / T) * sp.integrate( sp.Abs(x1 - x2)**2, (t, 0, T) ), T, sp.oo ))\n",
        "d"
      ],
      "metadata": {
        "id": "OEeuElE569-K",
        "outputId": "35ff2d6f-d806-44d7-f7f0-61a4c3b6cdae",
        "colab": {
          "base_uri": "https://localhost:8080/",
          "height": 40
        }
      },
      "execution_count": 2,
      "outputs": [
        {
          "output_type": "execute_result",
          "data": {
            "text/plain": [
              "sqrt(A**2 - 2*A*B + B**2)"
            ],
            "text/latex": "$\\displaystyle \\sqrt{A^{2} - 2 A B + B^{2}}$"
          },
          "metadata": {},
          "execution_count": 2
        }
      ]
    }
  ]
}